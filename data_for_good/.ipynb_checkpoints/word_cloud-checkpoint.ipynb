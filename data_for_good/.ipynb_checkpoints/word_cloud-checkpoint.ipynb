{
 "cells": [
  {
   "cell_type": "code",
   "execution_count": 1,
   "id": "1b17227b",
   "metadata": {},
   "outputs": [],
   "source": [
    "import os\n",
    "import pandas as pd\n"
   ]
  },
  {
   "cell_type": "code",
   "execution_count": 6,
   "id": "851fec47",
   "metadata": {},
   "outputs": [
    {
     "name": "stdout",
     "output_type": "stream",
     "text": [
      "Index(['row_id', 'unique_id', 'survey_type', 'iso3166', 'surveydate',\n",
      "       'city_town', 'city_town_tr', 'country_of_residence',\n",
      "       'gender_not_listed', 'cisgender_man', 'cisgender_woman',\n",
      "       'non_conforming_or_non_binary', 'gender_choose_not_to_identify', 'man',\n",
      "       'transgender_man', 'transgender_woman', 'woman',\n",
      "       'racial_identity_not_listed', 'asian', 'biracial_or_mixed',\n",
      "       'black_or_of_african_descent', 'hispanic_or_latinx',\n",
      "       'choose_not_to_identify', 'indigenous',\n",
      "       'indigenous_central_or_south_american', 'middle_eastern',\n",
      "       'native_american', 'native_hawaiian', 'north_african',\n",
      "       'pacific_islander', 'south_asian', 'southeast_asian', 'white', 'age',\n",
      "       'issue_person_civil_rights_and_freedoms',\n",
      "       'issue_person_disability_rights',\n",
      "       'issue_person_economic_and_workers_rights',\n",
      "       'issue_person_education_and_youth_empowerment',\n",
      "       'issue_person_ending_violence_harassment_and_abuse',\n",
      "       'issue_person_environmental_justice',\n",
      "       'issue_person_immigrant_and_refugee_rights',\n",
      "       'issue_person_indigenous_andor_roma_rights',\n",
      "       'issue_person_LGBTQI+_rights', 'issue_person_racial_equity',\n",
      "       'issue_person_reproductive_freedom_and_bodily_autonomy',\n",
      "       'issue_person_sexual_reproductive_and_parental_health',\n",
      "       'barrier_person_civil_rights_and_freedoms',\n",
      "       'barrier_person_disability_rights',\n",
      "       'barrier_person_economic_and_workers_rights',\n",
      "       'barrier_person_education_and_youth_empowerment',\n",
      "       'barrier_person_ending_violence_harassment_and_abuse',\n",
      "       'barrier_person_environmental_justice',\n",
      "       'barrier_person_immigrant_and_refugee_rights',\n",
      "       'barrier_person_indigenous_andor_roma_rights',\n",
      "       'barrier_person_LGBTQI+_rights', 'barrier_racial_equity',\n",
      "       'barrier_person_reproductive_freedom_and_bodily_autonomy',\n",
      "       'barrier_person_sexual_reproductive_and_parental_health',\n",
      "       'issue_city_civil_rights_and_freedoms', 'issue_city_disability_rights',\n",
      "       'issue_city_economic_and_workers_rights',\n",
      "       'issue_city_education_and_youth_empowerment',\n",
      "       'issue_city_ending_violence_harassment_and_abuse',\n",
      "       'issue_city_environmental_justice',\n",
      "       'issue_city_immigrant_and_refugee_rights',\n",
      "       'issue_city_indigenous_andor_roma_rights', 'issue_city_LGBTQI+_rights',\n",
      "       'issue_city_racial_equity',\n",
      "       'issue_city_reproductive_freedom_and_bodily_autonomy',\n",
      "       'issue_city_sexual_reproductive_and_parental_health',\n",
      "       'barrier_city_civil_rights_and_freedoms',\n",
      "       'barrier_city_disability_rights',\n",
      "       'barrier_city_economic_and_workers_rights',\n",
      "       'barrier_city_education_and_youth_empowerment',\n",
      "       'barrier_city_ending_violence_harassment_and_abuse',\n",
      "       'barrier_city_environmental_justice',\n",
      "       'barrier_city_immigrant_and_refugee_rights',\n",
      "       'barrier_city_indigenous_andor_roma_rights',\n",
      "       'barrier_city_LGBTQI+_rights', 'barrier_city_racial_equity',\n",
      "       'barrier_city_reproductive_freedom_and_bodily_autonomy',\n",
      "       'barrier_city_sexual_reproductive_and_parental_health', 'npo_1',\n",
      "       'npo_2', 'npo_3', 'progress_10_years', 'npo_1_tr', 'npo_2_tr',\n",
      "       'npo_3_tr', 'progress_10_years_tr', 'language', 'langauge_score'],\n",
      "      dtype='object')\n"
     ]
    }
   ],
   "source": [
    "path = os.getcwd()\n",
    "filename = \"globalcount_data.csv\"\n",
    "df = pd.read_csv (r'{}/{}'.format(path, filename))\n",
    "print(df.columns)"
   ]
  },
  {
   "cell_type": "code",
   "execution_count": null,
   "id": "48fe64c8",
   "metadata": {},
   "outputs": [],
   "source": []
  }
 ],
 "metadata": {
  "kernelspec": {
   "display_name": "Python 3 (ipykernel)",
   "language": "python",
   "name": "python3"
  },
  "language_info": {
   "codemirror_mode": {
    "name": "ipython",
    "version": 3
   },
   "file_extension": ".py",
   "mimetype": "text/x-python",
   "name": "python",
   "nbconvert_exporter": "python",
   "pygments_lexer": "ipython3",
   "version": "3.8.10"
  }
 },
 "nbformat": 4,
 "nbformat_minor": 5
}
